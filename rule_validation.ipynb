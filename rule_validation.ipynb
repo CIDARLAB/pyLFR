{
 "cells": [
  {
   "cell_type": "code",
   "execution_count": 1,
   "metadata": {},
   "outputs": [],
   "source": [
    "import z3\n",
    "from z3 import *"
   ]
  },
  {
   "attachments": {},
   "cell_type": "markdown",
   "metadata": {},
   "source": [
    "First we need to represent each individual path in the graph for fig dx1\n",
    "\n",
    "This is done using sucessors/predecessor generation\n",
    "\n",
    "Paths:\n",
    "```\n",
    "TBA\n",
    "```\n",
    "\n",
    "Finally we create a solver instance and load it onto the solver.\n",
    "\n",
    "\n"
   ]
  },
  {
   "cell_type": "code",
   "execution_count": 7,
   "metadata": {},
   "outputs": [
    {
     "data": {
      "text/html": [
       "<b>unsat</b>"
      ],
      "text/plain": [
       "unsat"
      ]
     },
     "execution_count": 7,
     "metadata": {},
     "output_type": "execute_result"
    }
   ],
   "source": []
  },
  {
   "attachments": {},
   "cell_type": "markdown",
   "metadata": {},
   "source": [
    "For each of the rules, we basically add new assertions to the solver\n",
    "\n",
    "Skip / Accept lists - We need to accept a list of integer / string values that are to be skipped / accepted in the rule.\n",
    "\n",
    "the scheme will be that anything 0-n will be skipped and anything n+ will be accepted. This way we can embed the constraints using integer values.\n",
    "\n",
    "Note: We also need to keep track of all the explicit mapping fig nodes and make sure that we don't add any constraints corresponding to them."
   ]
  },
  {
   "cell_type": "code",
   "execution_count": null,
   "metadata": {},
   "outputs": [],
   "source": []
  }
 ],
 "metadata": {
  "kernelspec": {
   "display_name": "lfr-Z6hqKLNa-py3.8",
   "language": "python",
   "name": "python3"
  },
  "language_info": {
   "codemirror_mode": {
    "name": "ipython",
    "version": 3
   },
   "file_extension": ".py",
   "mimetype": "text/x-python",
   "name": "python",
   "nbconvert_exporter": "python",
   "pygments_lexer": "ipython3",
   "version": "3.8.10"
  },
  "orig_nbformat": 4
 },
 "nbformat": 4,
 "nbformat_minor": 2
}
